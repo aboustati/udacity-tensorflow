{
 "cells": [
  {
   "cell_type": "markdown",
   "metadata": {
    "colab_type": "text",
    "id": "kR-4eNdK6lYS"
   },
   "source": [
    "Deep Learning\n",
    "=============\n",
    "\n",
    "Assignment 3\n",
    "------------\n",
    "\n",
    "Previously in `2_fullyconnected.ipynb`, you trained a logistic regression and a neural network model.\n",
    "\n",
    "The goal of this assignment is to explore regularization techniques."
   ]
  },
  {
   "cell_type": "code",
   "execution_count": 3,
   "metadata": {
    "cellView": "both",
    "colab": {
     "autoexec": {
      "startup": false,
      "wait_interval": 0
     }
    },
    "colab_type": "code",
    "collapsed": true,
    "id": "JLpLa8Jt7Vu4"
   },
   "outputs": [],
   "source": [
    "# These are all the modules we'll be using later. Make sure you can import them\n",
    "# before proceeding further.\n",
    "from __future__ import print_function\n",
    "import numpy as np\n",
    "import tensorflow as tf\n",
    "from six.moves import cPickle as pickle"
   ]
  },
  {
   "cell_type": "markdown",
   "metadata": {
    "colab_type": "text",
    "id": "1HrCK6e17WzV"
   },
   "source": [
    "First reload the data we generated in _notmist.ipynb_."
   ]
  },
  {
   "cell_type": "code",
   "execution_count": 4,
   "metadata": {
    "cellView": "both",
    "colab": {
     "autoexec": {
      "startup": false,
      "wait_interval": 0
     },
     "output_extras": [
      {
       "item_id": 1
      }
     ]
    },
    "colab_type": "code",
    "collapsed": false,
    "executionInfo": {
     "elapsed": 11777,
     "status": "ok",
     "timestamp": 1449849322348,
     "user": {
      "color": "",
      "displayName": "",
      "isAnonymous": false,
      "isMe": true,
      "permissionId": "",
      "photoUrl": "",
      "sessionId": "0",
      "userId": ""
     },
     "user_tz": 480
    },
    "id": "y3-cj1bpmuxc",
    "outputId": "e03576f1-ebbe-4838-c388-f1777bcc9873"
   },
   "outputs": [
    {
     "name": "stdout",
     "output_type": "stream",
     "text": [
      "Training set (200000, 28, 28) (200000,)\n",
      "Validation set (10000, 28, 28) (10000,)\n",
      "Test set (10000, 28, 28) (10000,)\n"
     ]
    }
   ],
   "source": [
    "pickle_file = 'notMNIST.pickle'\n",
    "\n",
    "with open(pickle_file, 'rb') as f:\n",
    "  save = pickle.load(f)\n",
    "  train_dataset = save['train_dataset']\n",
    "  train_labels = save['train_labels']\n",
    "  valid_dataset = save['valid_dataset']\n",
    "  valid_labels = save['valid_labels']\n",
    "  test_dataset = save['test_dataset']\n",
    "  test_labels = save['test_labels']\n",
    "  del save  # hint to help gc free up memory\n",
    "  print('Training set', train_dataset.shape, train_labels.shape)\n",
    "  print('Validation set', valid_dataset.shape, valid_labels.shape)\n",
    "  print('Test set', test_dataset.shape, test_labels.shape)"
   ]
  },
  {
   "cell_type": "markdown",
   "metadata": {
    "colab_type": "text",
    "id": "L7aHrm6nGDMB"
   },
   "source": [
    "Reformat into a shape that's more adapted to the models we're going to train:\n",
    "- data as a flat matrix,\n",
    "- labels as float 1-hot encodings."
   ]
  },
  {
   "cell_type": "code",
   "execution_count": 5,
   "metadata": {
    "cellView": "both",
    "colab": {
     "autoexec": {
      "startup": false,
      "wait_interval": 0
     },
     "output_extras": [
      {
       "item_id": 1
      }
     ]
    },
    "colab_type": "code",
    "collapsed": false,
    "executionInfo": {
     "elapsed": 11728,
     "status": "ok",
     "timestamp": 1449849322356,
     "user": {
      "color": "",
      "displayName": "",
      "isAnonymous": false,
      "isMe": true,
      "permissionId": "",
      "photoUrl": "",
      "sessionId": "0",
      "userId": ""
     },
     "user_tz": 480
    },
    "id": "IRSyYiIIGIzS",
    "outputId": "3f8996ee-3574-4f44-c953-5c8a04636582"
   },
   "outputs": [
    {
     "name": "stdout",
     "output_type": "stream",
     "text": [
      "Training set (200000, 784) (200000, 10)\n",
      "Validation set (10000, 784) (10000, 10)\n",
      "Test set (10000, 784) (10000, 10)\n"
     ]
    }
   ],
   "source": [
    "image_size = 28\n",
    "num_labels = 10\n",
    "\n",
    "def reformat(dataset, labels):\n",
    "  dataset = dataset.reshape((-1, image_size * image_size)).astype(np.float32)\n",
    "  # Map 2 to [0.0, 1.0, 0.0 ...], 3 to [0.0, 0.0, 1.0 ...]\n",
    "  labels = (np.arange(num_labels) == labels[:,None]).astype(np.float32)\n",
    "  return dataset, labels\n",
    "train_dataset, train_labels = reformat(train_dataset, train_labels)\n",
    "valid_dataset, valid_labels = reformat(valid_dataset, valid_labels)\n",
    "test_dataset, test_labels = reformat(test_dataset, test_labels)\n",
    "print('Training set', train_dataset.shape, train_labels.shape)\n",
    "print('Validation set', valid_dataset.shape, valid_labels.shape)\n",
    "print('Test set', test_dataset.shape, test_labels.shape)"
   ]
  },
  {
   "cell_type": "code",
   "execution_count": 6,
   "metadata": {
    "cellView": "both",
    "colab": {
     "autoexec": {
      "startup": false,
      "wait_interval": 0
     }
    },
    "colab_type": "code",
    "collapsed": true,
    "id": "RajPLaL_ZW6w"
   },
   "outputs": [],
   "source": [
    "def accuracy(predictions, labels):\n",
    "  return (100.0 * np.sum(np.argmax(predictions, 1) == np.argmax(labels, 1))\n",
    "          / predictions.shape[0])"
   ]
  },
  {
   "cell_type": "markdown",
   "metadata": {
    "colab_type": "text",
    "id": "sgLbUAQ1CW-1"
   },
   "source": [
    "---\n",
    "Problem 1\n",
    "---------\n",
    "\n",
    "Introduce and tune L2 regularization for both logistic and neural network models. Remember that L2 amounts to adding a penalty on the norm of the weights to the loss. In TensorFlow, you can compute the L2 loss for a tensor `t` using `nn.l2_loss(t)`. The right amount of regularization should improve your validation / test accuracy.\n",
    "\n",
    "---"
   ]
  },
  {
   "cell_type": "markdown",
   "metadata": {},
   "source": [
    "Create a function that defines the model. Add L2 regularisation to the loss function by adding the L2 norm of the Weights and the Biases to the original loss function. Scale the norms by a parameter beta indicating the amount of regularisation."
   ]
  },
  {
   "cell_type": "code",
   "execution_count": 5,
   "metadata": {
    "collapsed": false
   },
   "outputs": [],
   "source": [
    "def logistic_regression(beta=0.1, batch_size=128):\n",
    "    graph = tf.Graph()\n",
    "    with graph.as_default():\n",
    "        tf_train_dataset = tf.placeholder(dtype=tf.float32, shape=(batch_size, image_size*image_size),\n",
    "                                         name='train_dataset')\n",
    "        tf_train_labels = tf.placeholder(dtype=tf.float32, shape=(batch_size, num_labels),\n",
    "                                        name='train_labels')\n",
    "        tf_valid_dataset = tf.constant(valid_dataset, dtype=tf.float32)\n",
    "        tf_test_dataset = tf.constant(test_dataset, dtype=tf.float32)\n",
    "\n",
    "        #Variables\n",
    "        weights = tf.Variable(tf.truncated_normal([image_size**2, num_labels]))\n",
    "        biases = tf.Variable(tf.zeros([num_labels]))\n",
    "\n",
    "        #Training Computation\n",
    "        logits = tf.matmul(tf_train_dataset, weights) + biases\n",
    "        loss = tf.nn.softmax_cross_entropy_with_logits(logits, tf_train_labels)\n",
    "        loss = loss + beta*(tf.nn.l2_loss(weights) + tf.nn.l2_loss(biases))\n",
    "        loss = tf.reduce_mean(loss, name='loss')\n",
    "        \n",
    "        #Optimiser\n",
    "        optimiser = tf.train.GradientDescentOptimizer(0.5).minimize(loss, name='optimiser')\n",
    "        \n",
    "        #Predictions\n",
    "        train_prediction = tf.nn.softmax(logits, name='train_prediction')\n",
    "        valid_prediction = tf.nn.softmax(tf.matmul(valid_dataset, weights) + biases, name='valid_prediction')\n",
    "        test_prediction = tf.nn.softmax(tf.matmul(test_dataset, weights) + biases, name='test_prediction')\n",
    "    return graph"
   ]
  },
  {
   "cell_type": "markdown",
   "metadata": {},
   "source": [
    "Same as logisitc regression. Create a function definining the model and penalise the Weights and the Biases."
   ]
  },
  {
   "cell_type": "code",
   "execution_count": 26,
   "metadata": {
    "collapsed": false
   },
   "outputs": [],
   "source": [
    "def neural_network(beta=0.1, batch_size=128):\n",
    "    graph = tf.Graph()\n",
    "    with graph.as_default():\n",
    "        tf_train_dataset = tf.placeholder(dtype=tf.float32, shape=(batch_size, image_size*image_size),\n",
    "                                         name='train_dataset')\n",
    "        tf_train_labels = tf.placeholder(dtype=tf.float32, shape=(batch_size, num_labels),\n",
    "                                         name='train_labels')\n",
    "        tf_valid_dataset = tf.constant(valid_dataset, dtype=tf.float32)\n",
    "        tf_test_dataset = tf.constant(test_dataset, dtype=tf.float32)\n",
    "\n",
    "        #Variables\n",
    "        weights_1 = tf.Variable(tf.truncated_normal([image_size**2, 1024]))\n",
    "        biases_1 = tf.Variable(tf.zeros([1024]))\n",
    "        weights_2 = tf.Variable(tf.truncated_normal([1024, num_labels]))\n",
    "        biases_2 = tf.Variable(tf.zeros([num_labels]))\n",
    "\n",
    "        #Training Computation\n",
    "        layer_1 = tf.matmul(tf_train_dataset, weights_1) + biases_1\n",
    "        activation_1 = tf.nn.relu(layer_1)\n",
    "        logits = tf.matmul(activation_1, weights_2) + biases_2\n",
    "        loss = tf.nn.softmax_cross_entropy_with_logits(logits, tf_train_labels)\n",
    "        loss = loss + beta*(tf.nn.l2_loss(weights_1) + tf.nn.l2_loss(biases_1)\n",
    "                            + tf.nn.l2_loss(weights_2) + tf.nn.l2_loss(biases_2))\n",
    "        loss = tf.reduce_mean(loss, name='loss')\n",
    "\n",
    "        #Optimiser\n",
    "        optimiser = tf.train.GradientDescentOptimizer(0.5).minimize(loss, name='optimiser')\n",
    "\n",
    "        #Predictions\n",
    "        train_prediction = tf.nn.softmax(logits, name='train_prediction')\n",
    "        valid_activation = tf.nn.relu(tf.matmul(valid_dataset, weights_1) + biases_1)\n",
    "        valid_prediction = tf.nn.softmax(tf.matmul(valid_activation, weights_2) + biases_2,\n",
    "                                         name='valid_prediction')\n",
    "        test_activation = tf.nn.relu(tf.matmul(test_dataset, weights_1) + biases_1)\n",
    "        test_prediction = tf.nn.softmax(tf.matmul(test_activation, weights_2) + biases_2,\n",
    "                                       name='test_prediction')\n",
    "    return graph"
   ]
  },
  {
   "cell_type": "markdown",
   "metadata": {},
   "source": [
    "Below is just a function that runs tensorflow graphs (models)."
   ]
  },
  {
   "cell_type": "code",
   "execution_count": 7,
   "metadata": {
    "collapsed": false
   },
   "outputs": [],
   "source": [
    "def run_graph(graph, num_batches=1000, num_steps=3000, batch_size=128):\n",
    "    num_steps += 1\n",
    "    with tf.Session(graph=graph) as session:\n",
    "        tf.initialize_all_variables().run()\n",
    "        print(\"Initialized\")\n",
    "        tf_train_dataset=graph.get_tensor_by_name(\"train_dataset:0\")\n",
    "        tf_train_labels=graph.get_tensor_by_name(\"train_labels:0\")\n",
    "        optimiser=graph.get_operation_by_name(\"optimiser\")\n",
    "        loss=graph.get_tensor_by_name(\"loss:0\")\n",
    "        train_prediction=graph.get_tensor_by_name(\"train_prediction:0\")\n",
    "        valid_prediction=graph.get_tensor_by_name(\"valid_prediction:0\")\n",
    "        test_prediction=graph.get_tensor_by_name(\"test_prediction:0\")\n",
    "        for step in xrange(num_steps):\n",
    "            offset = (step * batch_size) % (train_labels.shape[0] - batch_size)\n",
    "            if offset % num_batches*batch_size == 0:\n",
    "                offset = 0\n",
    "            # Generate a minibatch.\n",
    "            batch_data = train_dataset[offset:(offset + batch_size), :]\n",
    "            batch_labels = train_labels[offset:(offset + batch_size), :]\n",
    "            #Feed Dictionary\n",
    "            feed_dict = {tf_train_dataset:batch_data, tf_train_labels:batch_labels}\n",
    "            _, l, predictions = session.run([optimiser, loss, train_prediction], feed_dict=feed_dict)\n",
    "            if (step % 500 == 0):\n",
    "                print(\"Minibatch loss at step %d: %f\" % (step, l))\n",
    "                print(\"Minibatch accuracy: %.1f%%\" % accuracy(predictions, batch_labels))\n",
    "                print(\"Validation accuracy: %.1f%%\" % accuracy(valid_prediction.eval(), valid_labels))\n",
    "        print(\"Test accuracy: %.1f%%\" % accuracy(test_prediction.eval(), test_labels))"
   ]
  },
  {
   "cell_type": "code",
   "execution_count": 33,
   "metadata": {
    "collapsed": false
   },
   "outputs": [
    {
     "name": "stdout",
     "output_type": "stream",
     "text": [
      "Initialized\n",
      "Minibatch loss at step 0: 315.435669\n",
      "Minibatch accuracy: 11.7%\n",
      "Validation accuracy: 14.8%\n",
      "Minibatch loss at step 500: 1.094512\n",
      "Minibatch accuracy: 75.8%\n",
      "Validation accuracy: 68.9%\n",
      "Minibatch loss at step 1000: 1.058483\n",
      "Minibatch accuracy: 76.6%\n",
      "Validation accuracy: 75.5%\n",
      "Minibatch loss at step 1500: 1.009662\n",
      "Minibatch accuracy: 82.0%\n",
      "Validation accuracy: 77.6%\n",
      "Minibatch loss at step 2000: 0.962315\n",
      "Minibatch accuracy: 76.6%\n",
      "Validation accuracy: 75.5%\n",
      "Minibatch loss at step 2500: 1.096092\n",
      "Minibatch accuracy: 69.5%\n",
      "Validation accuracy: 74.9%\n",
      "Minibatch loss at step 3000: 1.017998\n",
      "Minibatch accuracy: 81.2%\n",
      "Validation accuracy: 78.1%\n",
      "Test accuracy: 83.8%\n"
     ]
    }
   ],
   "source": [
    "regression = logistic_regression()\n",
    "run_graph(regression)"
   ]
  },
  {
   "cell_type": "code",
   "execution_count": 34,
   "metadata": {
    "collapsed": false
   },
   "outputs": [
    {
     "name": "stdout",
     "output_type": "stream",
     "text": [
      "Initialized\n",
      "Minibatch loss at step 0: 31826.207031\n",
      "Minibatch accuracy: 3.9%\n",
      "Validation accuracy: 28.8%\n",
      "Minibatch loss at step 500: 1.422327\n",
      "Minibatch accuracy: 78.9%\n",
      "Validation accuracy: 74.2%\n",
      "Minibatch loss at step 1000: 1.387566\n",
      "Minibatch accuracy: 79.7%\n",
      "Validation accuracy: 76.5%\n",
      "Minibatch loss at step 1500: 1.386933\n",
      "Minibatch accuracy: 81.2%\n",
      "Validation accuracy: 78.9%\n",
      "Minibatch loss at step 2000: 1.300252\n",
      "Minibatch accuracy: 85.2%\n",
      "Validation accuracy: 78.9%\n",
      "Minibatch loss at step 2500: 1.408599\n",
      "Minibatch accuracy: 75.8%\n",
      "Validation accuracy: 73.5%\n",
      "Minibatch loss at step 3000: 1.360341\n",
      "Minibatch accuracy: 83.6%\n",
      "Validation accuracy: 78.1%\n",
      "Test accuracy: 83.6%\n"
     ]
    }
   ],
   "source": [
    "network = neural_network()\n",
    "run_graph(network)"
   ]
  },
  {
   "cell_type": "markdown",
   "metadata": {
    "colab_type": "text",
    "id": "na8xX2yHZzNF"
   },
   "source": [
    "---\n",
    "Problem 2\n",
    "---------\n",
    "Let's demonstrate an extreme case of overfitting. Restrict your training data to just a few batches. What happens?\n",
    "\n",
    "---"
   ]
  },
  {
   "cell_type": "markdown",
   "metadata": {},
   "source": [
    "Remove regularisation by setting `beta=0`. Train on one batch only. Accuracy on training data is perfect. Accuracy on validation and test data is worse."
   ]
  },
  {
   "cell_type": "code",
   "execution_count": 71,
   "metadata": {
    "collapsed": false
   },
   "outputs": [
    {
     "name": "stdout",
     "output_type": "stream",
     "text": [
      "Initialized\n",
      "Minibatch loss at step 0: 21.375443\n",
      "Minibatch accuracy: 3.1%\n",
      "Validation accuracy: 10.6%\n",
      "Minibatch loss at step 1000: 0.001544\n",
      "Minibatch accuracy: 100.0%\n",
      "Validation accuracy: 57.4%\n",
      "Minibatch loss at step 2000: 0.000799\n",
      "Minibatch accuracy: 100.0%\n",
      "Validation accuracy: 58.3%\n",
      "Minibatch loss at step 3000: 0.000546\n",
      "Minibatch accuracy: 100.0%\n",
      "Validation accuracy: 58.8%\n",
      "Test accuracy: 65.2%\n"
     ]
    }
   ],
   "source": [
    "regression = logistic_regression(beta=0)\n",
    "run_graph(regression, 1)"
   ]
  },
  {
   "cell_type": "markdown",
   "metadata": {},
   "source": [
    "Remove regularisation by setting `beta=0`. Train on one batch only. Accuracy on training data is perfect. Accuracy on validation and test data is worse."
   ]
  },
  {
   "cell_type": "code",
   "execution_count": 73,
   "metadata": {
    "collapsed": false
   },
   "outputs": [
    {
     "name": "stdout",
     "output_type": "stream",
     "text": [
      "Initialized\n",
      "Minibatch loss at step 0: 393.473694\n",
      "Minibatch accuracy: 6.2%\n",
      "Validation accuracy: 34.0%\n",
      "Minibatch loss at step 1000: 0.000000\n",
      "Minibatch accuracy: 100.0%\n",
      "Validation accuracy: 65.9%\n",
      "Minibatch loss at step 2000: 0.000000\n",
      "Minibatch accuracy: 100.0%\n",
      "Validation accuracy: 65.9%\n",
      "Minibatch loss at step 3000: 0.000000\n",
      "Minibatch accuracy: 100.0%\n",
      "Validation accuracy: 65.9%\n",
      "Test accuracy: 71.3%\n"
     ]
    }
   ],
   "source": [
    "network = neural_network(beta=0)\n",
    "run_graph(network, 1)"
   ]
  },
  {
   "cell_type": "markdown",
   "metadata": {
    "colab_type": "text",
    "id": "ww3SCBUdlkRc"
   },
   "source": [
    "---\n",
    "Problem 3\n",
    "---------\n",
    "Introduce Dropout on the hidden layer of the neural network. Remember: Dropout should only be introduced during training, not evaluation, otherwise your evaluation results would be stochastic as well. TensorFlow provides `nn.dropout()` for that, but you have to make sure it's only inserted during training.\n",
    "\n",
    "What happens to our extreme overfitting case?\n",
    "\n",
    "---"
   ]
  },
  {
   "cell_type": "markdown",
   "metadata": {},
   "source": [
    "Add dropout on the activations of the hidden layer during training. Accuracy on validation and testing data for extreme case improves."
   ]
  },
  {
   "cell_type": "code",
   "execution_count": 25,
   "metadata": {
    "collapsed": true
   },
   "outputs": [],
   "source": [
    "def neural_network_with_dropout(beta=0.1, batch_size=128):\n",
    "    graph = tf.Graph()\n",
    "    with graph.as_default():\n",
    "        tf_train_dataset = tf.placeholder(dtype=tf.float32, shape=(batch_size, image_size*image_size),\n",
    "                                         name='train_dataset')\n",
    "        tf_train_labels = tf.placeholder(dtype=tf.float32, shape=(batch_size, num_labels),\n",
    "                                         name='train_labels')\n",
    "        tf_valid_dataset = tf.constant(valid_dataset, dtype=tf.float32)\n",
    "        tf_test_dataset = tf.constant(test_dataset, dtype=tf.float32)\n",
    "\n",
    "        #Variables\n",
    "        weights_1 = tf.Variable(tf.truncated_normal([image_size**2, 1024]))\n",
    "        biases_1 = tf.Variable(tf.zeros([1024]))\n",
    "        weights_2 = tf.Variable(tf.truncated_normal([1024, num_labels]))\n",
    "        biases_2 = tf.Variable(tf.zeros([num_labels]))\n",
    "\n",
    "        #Training Computation\n",
    "        layer_1 = tf.matmul(tf_train_dataset, weights_1) + biases_1\n",
    "        activation_1 = tf.nn.relu(layer_1)\n",
    "        activation_1 = tf.nn.dropout(activation_1, 0.5)\n",
    "        logits = tf.matmul(activation_1, weights_2) + biases_2\n",
    "        loss = tf.nn.softmax_cross_entropy_with_logits(logits, tf_train_labels)\n",
    "        loss = loss + beta*(tf.nn.l2_loss(weights_1) + tf.nn.l2_loss(biases_1)\n",
    "                            + tf.nn.l2_loss(weights_2) + tf.nn.l2_loss(biases_2))\n",
    "        loss = tf.reduce_mean(loss, name='loss')\n",
    "\n",
    "        #Optimiser\n",
    "        optimiser = tf.train.GradientDescentOptimizer(0.5).minimize(loss, name='optimiser')\n",
    "\n",
    "        #Predictions\n",
    "        train_prediction = tf.nn.softmax(logits, name='train_prediction')\n",
    "        valid_activation = tf.nn.relu(tf.matmul(valid_dataset, weights_1) + biases_1)\n",
    "        valid_prediction = tf.nn.softmax(tf.matmul(valid_activation, weights_2) + biases_2,\n",
    "                                         name='valid_prediction')\n",
    "        test_activation = tf.nn.relu(tf.matmul(test_dataset, weights_1) + biases_1)\n",
    "        test_prediction = tf.nn.softmax(tf.matmul(test_activation, weights_2) + biases_2,\n",
    "                                       name='test_prediction')\n",
    "    return graph"
   ]
  },
  {
   "cell_type": "code",
   "execution_count": 20,
   "metadata": {
    "collapsed": false
   },
   "outputs": [
    {
     "name": "stdout",
     "output_type": "stream",
     "text": [
      "Initialized\n",
      "Minibatch loss at step 0: 460.577209\n",
      "Minibatch accuracy: 10.2%\n",
      "Validation accuracy: 37.8%\n",
      "Minibatch loss at step 1000: 0.000000\n",
      "Minibatch accuracy: 100.0%\n",
      "Validation accuracy: 72.5%\n",
      "Minibatch loss at step 2000: 0.000000\n",
      "Minibatch accuracy: 100.0%\n",
      "Validation accuracy: 71.9%\n",
      "Minibatch loss at step 3000: 0.000000\n",
      "Minibatch accuracy: 100.0%\n",
      "Validation accuracy: 71.9%\n",
      "Test accuracy: 77.5%\n"
     ]
    }
   ],
   "source": [
    "network_with_dropout = neural_network_with_dropout(beta=0)\n",
    "run_graph(network_with_dropout, 1)"
   ]
  },
  {
   "cell_type": "markdown",
   "metadata": {
    "colab_type": "text",
    "id": "-b1hTz3VWZjw"
   },
   "source": [
    "---\n",
    "Problem 4\n",
    "---------\n",
    "\n",
    "Try to get the best performance you can using a multi-layer model! The best reported test accuracy using a deep network is [97.1%](http://yaroslavvb.blogspot.com/2011/09/notmnist-dataset.html?showComment=1391023266211#c8758720086795711595).\n",
    "\n",
    "One avenue you can explore is to add multiple layers.\n",
    "\n",
    "Another one is to use learning rate decay:\n",
    "\n",
    "    global_step = tf.Variable(0)  # count the number of steps taken.\n",
    "    learning_rate = tf.train.exponential_decay(0.5, global_step, ...)\n",
    "    optimizer = tf.train.GradientDescentOptimizer(learning_rate).minimize(loss, global_step=global_step)\n",
    " \n",
    " ---\n"
   ]
  },
  {
   "cell_type": "markdown",
   "metadata": {},
   "source": [
    "Add an extra layer with droupout and utilise learning rate decay. Accuracy on testing data improves. It is likely that accuracy will improve more if dropout is not used because there is a large number of training samples."
   ]
  },
  {
   "cell_type": "code",
   "execution_count": 8,
   "metadata": {
    "collapsed": true
   },
   "outputs": [],
   "source": [
    "def deep_neural_network_with_dropout(beta=0.1, do_prob=0.6, batch_size=128):\n",
    "    graph = tf.Graph()\n",
    "    with graph.as_default():\n",
    "        tf_train_dataset = tf.placeholder(dtype=tf.float32, shape=(batch_size, image_size*image_size),\n",
    "                                         name='train_dataset')\n",
    "        tf_train_labels = tf.placeholder(dtype=tf.float32, shape=(batch_size, num_labels),\n",
    "                                         name='train_labels')\n",
    "        tf_valid_dataset = tf.constant(valid_dataset, dtype=tf.float32)\n",
    "        tf_test_dataset = tf.constant(test_dataset, dtype=tf.float32)\n",
    "\n",
    "        #Variables\n",
    "        global_step = tf.Variable(0)\n",
    "        \n",
    "        weights_1 = tf.Variable(tf.truncated_normal([image_size**2, 1024]))\n",
    "        biases_1 = tf.Variable(tf.zeros([1024]))\n",
    "        weights_2 = tf.Variable(tf.truncated_normal([1024, 1024]))\n",
    "        biases_2 = tf.Variable(tf.zeros([1024]))\n",
    "        weights_3 = tf.Variable(tf.truncated_normal([1024, num_labels]))\n",
    "        biases_3 = tf.Variable(tf.zeros([num_labels]))\n",
    "\n",
    "        \n",
    "        #Training Computation\n",
    "        layer_1 = tf.matmul(tf_train_dataset, weights_1) + biases_1\n",
    "        activation_1 = tf.nn.relu(layer_1)\n",
    "        activation_1 = tf.nn.dropout(activation_1, do_prob)\n",
    "        layer_2 = tf.matmul(activation_1, weights_2) + biases_2\n",
    "        activation_2 = tf.nn.relu(layer_2)\n",
    "        activation_2 = tf.nn.dropout(activation_2, do_prob)\n",
    "        logits = tf.matmul(activation_2, weights_3) + biases_3\n",
    "        loss = tf.nn.softmax_cross_entropy_with_logits(logits, tf_train_labels)\n",
    "        loss = loss + beta*(tf.nn.l2_loss(weights_1) + tf.nn.l2_loss(biases_1)\n",
    "                            + tf.nn.l2_loss(weights_2) + tf.nn.l2_loss(biases_2)\n",
    "                            + tf.nn.l2_loss(weights_3) + tf.nn.l2_loss(biases_3))\n",
    "        loss = tf.reduce_mean(loss, name='loss')\n",
    "\n",
    "        #Learning Rate\n",
    "        learning_rate = tf.train.exponential_decay(0.01, global_step=global_step,\n",
    "                                                   decay_steps=1000, decay_rate=0.9, staircase=True)\n",
    "        \n",
    "        #Optimiser\n",
    "        optimiser = tf.train.GradientDescentOptimizer(learning_rate)\n",
    "        optimiser.minimize(loss, global_step=global_step, name='optimiser')\n",
    "\n",
    "        #Predictions\n",
    "        train_prediction = tf.nn.softmax(logits, name='train_prediction')\n",
    "        valid_activation_1 = tf.nn.relu(tf.matmul(valid_dataset, weights_1) + biases_1)\n",
    "        valid_activation_2 = tf.nn.relu(tf.matmul(valid_activation_1, weights_2) + biases_2)\n",
    "        valid_prediction = tf.nn.softmax(tf.matmul(valid_activation_2, weights_3) + biases_3,\n",
    "                                         name='valid_prediction')\n",
    "        test_activation_1 = tf.nn.relu(tf.matmul(test_dataset, weights_1) + biases_1)\n",
    "        test_activation_2 = tf.nn.relu(tf.matmul(test_activation_1, weights_2) + biases_2)\n",
    "        test_prediction = tf.nn.softmax(tf.matmul(test_activation_2, weights_3) + biases_3,\n",
    "                                       name='test_prediction')\n",
    "    return graph"
   ]
  },
  {
   "cell_type": "code",
   "execution_count": null,
   "metadata": {
    "collapsed": false
   },
   "outputs": [
    {
     "name": "stdout",
     "output_type": "stream",
     "text": [
      "Initialized\n",
      "Minibatch loss at step 0: 83733.164062\n",
      "Minibatch accuracy: 15.6%\n",
      "Validation accuracy: 17.3%\n",
      "Minibatch loss at step 500: 26281.787109\n",
      "Minibatch accuracy: 73.4%\n",
      "Validation accuracy: 81.4%\n",
      "Minibatch loss at step 1000: 9634.846680\n",
      "Minibatch accuracy: 76.6%\n",
      "Validation accuracy: 81.0%\n",
      "Minibatch loss at step 1500: 3911.721436\n",
      "Minibatch accuracy: 77.3%\n",
      "Validation accuracy: 80.5%\n",
      "Minibatch loss at step 2000: 1589.730469\n",
      "Minibatch accuracy: 78.9%\n",
      "Validation accuracy: 81.1%\n",
      "Minibatch loss at step 2500: 707.795776\n",
      "Minibatch accuracy: 75.8%\n",
      "Validation accuracy: 81.0%\n",
      "Minibatch loss at step 3000: 315.645844\n",
      "Minibatch accuracy: 79.7%\n",
      "Validation accuracy: 81.1%\n",
      "Minibatch loss at step 3500: 153.094193\n",
      "Minibatch accuracy: 78.1%\n",
      "Validation accuracy: 80.6%\n",
      "Minibatch loss at step 4000: 74.709023\n",
      "Minibatch accuracy: 81.2%\n",
      "Validation accuracy: 80.3%\n",
      "Minibatch loss at step 4500: 39.620338\n",
      "Minibatch accuracy: 78.1%\n",
      "Validation accuracy: 80.2%\n",
      "Minibatch loss at step 5000: 21.321371\n",
      "Minibatch accuracy: 81.2%\n",
      "Validation accuracy: 79.9%\n"
     ]
    }
   ],
   "source": [
    "deep_network = deep_neural_network_with_dropout(0.1, 0.6)\n",
    "run_graph(deep_network, num_steps=10000)"
   ]
  },
  {
   "cell_type": "code",
   "execution_count": null,
   "metadata": {
    "collapsed": false
   },
   "outputs": [],
   "source": [
    "deep_network = deep_neural_network_with_dropout(0.1, 1)\n",
    "run_graph(deep_network, num_steps=10000)"
   ]
  }
 ],
 "metadata": {
  "colab": {
   "default_view": {},
   "name": "3_regularization.ipynb",
   "provenance": [],
   "version": "0.3.2",
   "views": {}
  },
  "kernelspec": {
   "display_name": "Python 2",
   "language": "python",
   "name": "python2"
  },
  "language_info": {
   "codemirror_mode": {
    "name": "ipython",
    "version": 2
   },
   "file_extension": ".py",
   "mimetype": "text/x-python",
   "name": "python",
   "nbconvert_exporter": "python",
   "pygments_lexer": "ipython2",
   "version": "2.7.12"
  }
 },
 "nbformat": 4,
 "nbformat_minor": 0
}
